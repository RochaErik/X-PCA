{
 "cells": [
  {
   "cell_type": "markdown",
   "metadata": {},
   "source": [
    "Source: https://www.youtube.com/watch?v=Lsue2gEM9D0"
   ]
  },
  {
   "cell_type": "code",
   "execution_count": 1,
   "metadata": {},
   "outputs": [],
   "source": [
    "import pandas as pd\n",
    "import numpy as np\n",
    "import random as rd\n",
    "import matplotlib.pyplot as plt\n",
    "from sklearn.decomposition import PCA\n",
    "from sklearn import preprocessing"
   ]
  },
  {
   "cell_type": "code",
   "execution_count": 2,
   "metadata": {},
   "outputs": [],
   "source": [
    "genes = ['gene_' + str(i) for i in range(1, 101)]\n",
    "\n",
    "wt = ['wt_' + str(i) for i in range(1, 6)]\n",
    "ko = ['ko_' + str(i) for i in range(1, 6)]"
   ]
  },
  {
   "cell_type": "code",
   "execution_count": 3,
   "metadata": {},
   "outputs": [
    {
     "name": "stdout",
     "output_type": "stream",
     "text": [
      "(100, 10)\n"
     ]
    },
    {
     "data": {
      "text/html": [
       "<div>\n",
       "<style scoped>\n",
       "    .dataframe tbody tr th:only-of-type {\n",
       "        vertical-align: middle;\n",
       "    }\n",
       "\n",
       "    .dataframe tbody tr th {\n",
       "        vertical-align: top;\n",
       "    }\n",
       "\n",
       "    .dataframe thead th {\n",
       "        text-align: right;\n",
       "    }\n",
       "</style>\n",
       "<table border=\"1\" class=\"dataframe\">\n",
       "  <thead>\n",
       "    <tr style=\"text-align: right;\">\n",
       "      <th></th>\n",
       "      <th>wt_1</th>\n",
       "      <th>wt_2</th>\n",
       "      <th>wt_3</th>\n",
       "      <th>wt_4</th>\n",
       "      <th>wt_5</th>\n",
       "      <th>ko_1</th>\n",
       "      <th>ko_2</th>\n",
       "      <th>ko_3</th>\n",
       "      <th>ko_4</th>\n",
       "      <th>ko_5</th>\n",
       "    </tr>\n",
       "  </thead>\n",
       "  <tbody>\n",
       "    <tr>\n",
       "      <th>gene_1</th>\n",
       "      <td>NaN</td>\n",
       "      <td>NaN</td>\n",
       "      <td>NaN</td>\n",
       "      <td>NaN</td>\n",
       "      <td>NaN</td>\n",
       "      <td>NaN</td>\n",
       "      <td>NaN</td>\n",
       "      <td>NaN</td>\n",
       "      <td>NaN</td>\n",
       "      <td>NaN</td>\n",
       "    </tr>\n",
       "    <tr>\n",
       "      <th>gene_2</th>\n",
       "      <td>NaN</td>\n",
       "      <td>NaN</td>\n",
       "      <td>NaN</td>\n",
       "      <td>NaN</td>\n",
       "      <td>NaN</td>\n",
       "      <td>NaN</td>\n",
       "      <td>NaN</td>\n",
       "      <td>NaN</td>\n",
       "      <td>NaN</td>\n",
       "      <td>NaN</td>\n",
       "    </tr>\n",
       "    <tr>\n",
       "      <th>gene_3</th>\n",
       "      <td>NaN</td>\n",
       "      <td>NaN</td>\n",
       "      <td>NaN</td>\n",
       "      <td>NaN</td>\n",
       "      <td>NaN</td>\n",
       "      <td>NaN</td>\n",
       "      <td>NaN</td>\n",
       "      <td>NaN</td>\n",
       "      <td>NaN</td>\n",
       "      <td>NaN</td>\n",
       "    </tr>\n",
       "    <tr>\n",
       "      <th>gene_4</th>\n",
       "      <td>NaN</td>\n",
       "      <td>NaN</td>\n",
       "      <td>NaN</td>\n",
       "      <td>NaN</td>\n",
       "      <td>NaN</td>\n",
       "      <td>NaN</td>\n",
       "      <td>NaN</td>\n",
       "      <td>NaN</td>\n",
       "      <td>NaN</td>\n",
       "      <td>NaN</td>\n",
       "    </tr>\n",
       "    <tr>\n",
       "      <th>gene_5</th>\n",
       "      <td>NaN</td>\n",
       "      <td>NaN</td>\n",
       "      <td>NaN</td>\n",
       "      <td>NaN</td>\n",
       "      <td>NaN</td>\n",
       "      <td>NaN</td>\n",
       "      <td>NaN</td>\n",
       "      <td>NaN</td>\n",
       "      <td>NaN</td>\n",
       "      <td>NaN</td>\n",
       "    </tr>\n",
       "  </tbody>\n",
       "</table>\n",
       "</div>"
      ],
      "text/plain": [
       "       wt_1 wt_2 wt_3 wt_4 wt_5 ko_1 ko_2 ko_3 ko_4 ko_5\n",
       "gene_1  NaN  NaN  NaN  NaN  NaN  NaN  NaN  NaN  NaN  NaN\n",
       "gene_2  NaN  NaN  NaN  NaN  NaN  NaN  NaN  NaN  NaN  NaN\n",
       "gene_3  NaN  NaN  NaN  NaN  NaN  NaN  NaN  NaN  NaN  NaN\n",
       "gene_4  NaN  NaN  NaN  NaN  NaN  NaN  NaN  NaN  NaN  NaN\n",
       "gene_5  NaN  NaN  NaN  NaN  NaN  NaN  NaN  NaN  NaN  NaN"
      ]
     },
     "execution_count": 3,
     "metadata": {},
     "output_type": "execute_result"
    }
   ],
   "source": [
    "# the stars unpack the 'wt' and 'ko' arrays so that the column names are a single array that looks like this:\n",
    "# [wt_1, wt_2, wt_3, wt_4, wt_5, ko_1, ko_2, ko_3, ko_4, ko_5] without the stars we would create an array of two arrays and\n",
    "# that wouldn't create ten columns like we want:\n",
    "# [[wt_1, wt_2, wt_3, wt_4, wt_5], [ko_1, ko_2, ko_3, ko_4, ko_5]]\n",
    "\n",
    "data = pd.DataFrame(columns=[*wt, *ko], index=genes)\n",
    "print(data.shape)\n",
    "data.head()"
   ]
  },
  {
   "cell_type": "code",
   "execution_count": 4,
   "metadata": {},
   "outputs": [],
   "source": [
    "for gene in data.index:\n",
    "    data.loc[gene, 'wt_1': 'wt_5'] = np.random.poisson(lam=rd.randrange(10, 1000), size=5)\n",
    "    data.loc[gene, 'ko_1': 'ko_5'] = np.random.poisson(lam=rd.randrange(10, 1000), size=5)"
   ]
  },
  {
   "cell_type": "code",
   "execution_count": 5,
   "metadata": {},
   "outputs": [
    {
     "data": {
      "text/html": [
       "<div>\n",
       "<style scoped>\n",
       "    .dataframe tbody tr th:only-of-type {\n",
       "        vertical-align: middle;\n",
       "    }\n",
       "\n",
       "    .dataframe tbody tr th {\n",
       "        vertical-align: top;\n",
       "    }\n",
       "\n",
       "    .dataframe thead th {\n",
       "        text-align: right;\n",
       "    }\n",
       "</style>\n",
       "<table border=\"1\" class=\"dataframe\">\n",
       "  <thead>\n",
       "    <tr style=\"text-align: right;\">\n",
       "      <th></th>\n",
       "      <th>wt_1</th>\n",
       "      <th>wt_2</th>\n",
       "      <th>wt_3</th>\n",
       "      <th>wt_4</th>\n",
       "      <th>wt_5</th>\n",
       "      <th>ko_1</th>\n",
       "      <th>ko_2</th>\n",
       "      <th>ko_3</th>\n",
       "      <th>ko_4</th>\n",
       "      <th>ko_5</th>\n",
       "    </tr>\n",
       "  </thead>\n",
       "  <tbody>\n",
       "    <tr>\n",
       "      <th>gene_1</th>\n",
       "      <td>763</td>\n",
       "      <td>711</td>\n",
       "      <td>731</td>\n",
       "      <td>728</td>\n",
       "      <td>784</td>\n",
       "      <td>377</td>\n",
       "      <td>400</td>\n",
       "      <td>391</td>\n",
       "      <td>390</td>\n",
       "      <td>433</td>\n",
       "    </tr>\n",
       "    <tr>\n",
       "      <th>gene_2</th>\n",
       "      <td>725</td>\n",
       "      <td>765</td>\n",
       "      <td>708</td>\n",
       "      <td>696</td>\n",
       "      <td>713</td>\n",
       "      <td>396</td>\n",
       "      <td>389</td>\n",
       "      <td>393</td>\n",
       "      <td>407</td>\n",
       "      <td>378</td>\n",
       "    </tr>\n",
       "    <tr>\n",
       "      <th>gene_3</th>\n",
       "      <td>500</td>\n",
       "      <td>506</td>\n",
       "      <td>522</td>\n",
       "      <td>533</td>\n",
       "      <td>491</td>\n",
       "      <td>756</td>\n",
       "      <td>776</td>\n",
       "      <td>740</td>\n",
       "      <td>777</td>\n",
       "      <td>753</td>\n",
       "    </tr>\n",
       "    <tr>\n",
       "      <th>gene_4</th>\n",
       "      <td>457</td>\n",
       "      <td>445</td>\n",
       "      <td>411</td>\n",
       "      <td>471</td>\n",
       "      <td>487</td>\n",
       "      <td>724</td>\n",
       "      <td>727</td>\n",
       "      <td>711</td>\n",
       "      <td>746</td>\n",
       "      <td>757</td>\n",
       "    </tr>\n",
       "    <tr>\n",
       "      <th>gene_5</th>\n",
       "      <td>870</td>\n",
       "      <td>896</td>\n",
       "      <td>850</td>\n",
       "      <td>847</td>\n",
       "      <td>885</td>\n",
       "      <td>148</td>\n",
       "      <td>113</td>\n",
       "      <td>130</td>\n",
       "      <td>140</td>\n",
       "      <td>134</td>\n",
       "    </tr>\n",
       "  </tbody>\n",
       "</table>\n",
       "</div>"
      ],
      "text/plain": [
       "       wt_1 wt_2 wt_3 wt_4 wt_5 ko_1 ko_2 ko_3 ko_4 ko_5\n",
       "gene_1  763  711  731  728  784  377  400  391  390  433\n",
       "gene_2  725  765  708  696  713  396  389  393  407  378\n",
       "gene_3  500  506  522  533  491  756  776  740  777  753\n",
       "gene_4  457  445  411  471  487  724  727  711  746  757\n",
       "gene_5  870  896  850  847  885  148  113  130  140  134"
      ]
     },
     "execution_count": 5,
     "metadata": {},
     "output_type": "execute_result"
    }
   ],
   "source": [
    "data.head()"
   ]
  },
  {
   "cell_type": "code",
   "execution_count": 6,
   "metadata": {},
   "outputs": [],
   "source": [
    "# We are passing in the transpose of our data the scale function expects the samples to be in rows instead of columns note we\n",
    "# use samples as columns in this example because that is often how genomic data is stored\n",
    "\n",
    "scaled_data = preprocessing.scale(data.T)"
   ]
  },
  {
   "cell_type": "markdown",
   "metadata": {},
   "source": [
    "### **Principal Component Analysis**"
   ]
  },
  {
   "cell_type": "code",
   "execution_count": 7,
   "metadata": {},
   "outputs": [],
   "source": [
    "pca = PCA()"
   ]
  },
  {
   "cell_type": "code",
   "execution_count": 8,
   "metadata": {},
   "outputs": [
    {
     "data": {
      "text/plain": [
       "PCA()"
      ]
     },
     "execution_count": 8,
     "metadata": {},
     "output_type": "execute_result"
    }
   ],
   "source": [
    "pca.fit(scaled_data)"
   ]
  },
  {
   "cell_type": "code",
   "execution_count": null,
   "metadata": {},
   "outputs": [],
   "source": [
    "pca_data = pca.transform(scaled_data)"
   ]
  },
  {
   "cell_type": "markdown",
   "metadata": {},
   "source": [
    "### **Scree plot**"
   ]
  },
  {
   "cell_type": "code",
   "execution_count": 10,
   "metadata": {},
   "outputs": [],
   "source": [
    "per_var = np.round(pca.explained_variance_ratio_ * 100, decimals=1)"
   ]
  },
  {
   "cell_type": "code",
   "execution_count": 11,
   "metadata": {},
   "outputs": [],
   "source": [
    "labels = ['PC' + str(x) for x in range(1, len(per_var) + 1)]"
   ]
  },
  {
   "cell_type": "code",
   "execution_count": 15,
   "metadata": {},
   "outputs": [
    {
     "data": {
      "image/png": "[encoded data removed]",
      "text/plain": [
       "<Figure size 864x576 with 1 Axes>"
      ]
     },
     "metadata": {
      "needs_background": "light"
     },
     "output_type": "display_data"
    }
   ],
   "source": [
    "plt.figure(figsize=(12,8))\n",
    "plt.bar(x=range(1, len(per_var) + 1), height=per_var, tick_label=labels)\n",
    "plt.ylabel('Percentage of the explained variable')\n",
    "plt.xlabel('Principal Component Analysis')\n",
    "plt.title('Scree Plot')\n",
    "plt.show()"
   ]
  },
  {
   "cell_type": "markdown",
   "metadata": {},
   "source": [
    "### **PCA plot**"
   ]
  },
  {
   "cell_type": "code",
   "execution_count": 16,
   "metadata": {},
   "outputs": [
    {
     "data": {
      "text/html": [
       "<div>\n",
       "<style scoped>\n",
       "    .dataframe tbody tr th:only-of-type {\n",
       "        vertical-align: middle;\n",
       "    }\n",
       "\n",
       "    .dataframe tbody tr th {\n",
       "        vertical-align: top;\n",
       "    }\n",
       "\n",
       "    .dataframe thead th {\n",
       "        text-align: right;\n",
       "    }\n",
       "</style>\n",
       "<table border=\"1\" class=\"dataframe\">\n",
       "  <thead>\n",
       "    <tr style=\"text-align: right;\">\n",
       "      <th></th>\n",
       "      <th>PC1</th>\n",
       "      <th>PC2</th>\n",
       "      <th>PC3</th>\n",
       "      <th>PC4</th>\n",
       "      <th>PC5</th>\n",
       "      <th>PC6</th>\n",
       "      <th>PC7</th>\n",
       "      <th>PC8</th>\n",
       "      <th>PC9</th>\n",
       "      <th>PC10</th>\n",
       "    </tr>\n",
       "  </thead>\n",
       "  <tbody>\n",
       "    <tr>\n",
       "      <th>wt_1</th>\n",
       "      <td>9.898026</td>\n",
       "      <td>3.433465</td>\n",
       "      <td>-0.312406</td>\n",
       "      <td>0.576982</td>\n",
       "      <td>-0.607383</td>\n",
       "      <td>0.942894</td>\n",
       "      <td>-1.096615</td>\n",
       "      <td>0.009611</td>\n",
       "      <td>0.812971</td>\n",
       "      <td>-1.137979e-15</td>\n",
       "    </tr>\n",
       "    <tr>\n",
       "      <th>wt_2</th>\n",
       "      <td>8.991962</td>\n",
       "      <td>-0.765402</td>\n",
       "      <td>-1.045962</td>\n",
       "      <td>-2.216312</td>\n",
       "      <td>1.855618</td>\n",
       "      <td>-1.090428</td>\n",
       "      <td>-1.154668</td>\n",
       "      <td>-0.744891</td>\n",
       "      <td>-0.189454</td>\n",
       "      <td>1.124101e-15</td>\n",
       "    </tr>\n",
       "    <tr>\n",
       "      <th>wt_3</th>\n",
       "      <td>9.499507</td>\n",
       "      <td>-0.774045</td>\n",
       "      <td>-1.638790</td>\n",
       "      <td>3.094571</td>\n",
       "      <td>0.774290</td>\n",
       "      <td>0.106958</td>\n",
       "      <td>0.682091</td>\n",
       "      <td>-0.220125</td>\n",
       "      <td>-0.641139</td>\n",
       "      <td>7.632783e-16</td>\n",
       "    </tr>\n",
       "    <tr>\n",
       "      <th>wt_4</th>\n",
       "      <td>9.296880</td>\n",
       "      <td>-1.704170</td>\n",
       "      <td>4.143494</td>\n",
       "      <td>0.397730</td>\n",
       "      <td>-0.233411</td>\n",
       "      <td>-0.142025</td>\n",
       "      <td>-0.250631</td>\n",
       "      <td>0.316042</td>\n",
       "      <td>0.015093</td>\n",
       "      <td>1.290634e-15</td>\n",
       "    </tr>\n",
       "    <tr>\n",
       "      <th>wt_5</th>\n",
       "      <td>8.966951</td>\n",
       "      <td>-0.266527</td>\n",
       "      <td>-1.115475</td>\n",
       "      <td>-1.999780</td>\n",
       "      <td>-1.796813</td>\n",
       "      <td>0.187591</td>\n",
       "      <td>1.874730</td>\n",
       "      <td>0.591783</td>\n",
       "      <td>-0.049417</td>\n",
       "      <td>1.054712e-15</td>\n",
       "    </tr>\n",
       "    <tr>\n",
       "      <th>ko_1</th>\n",
       "      <td>-9.307994</td>\n",
       "      <td>-0.035426</td>\n",
       "      <td>-0.044876</td>\n",
       "      <td>0.762286</td>\n",
       "      <td>-2.016780</td>\n",
       "      <td>-2.079873</td>\n",
       "      <td>0.109206</td>\n",
       "      <td>-1.039290</td>\n",
       "      <td>0.379216</td>\n",
       "      <td>-1.387779e-16</td>\n",
       "    </tr>\n",
       "    <tr>\n",
       "      <th>ko_2</th>\n",
       "      <td>-9.364310</td>\n",
       "      <td>1.620590</td>\n",
       "      <td>1.060887</td>\n",
       "      <td>-0.198411</td>\n",
       "      <td>2.537012</td>\n",
       "      <td>0.019554</td>\n",
       "      <td>1.722334</td>\n",
       "      <td>-0.129035</td>\n",
       "      <td>0.429839</td>\n",
       "      <td>-7.355228e-16</td>\n",
       "    </tr>\n",
       "    <tr>\n",
       "      <th>ko_3</th>\n",
       "      <td>-9.006078</td>\n",
       "      <td>-3.051472</td>\n",
       "      <td>-1.399939</td>\n",
       "      <td>0.261856</td>\n",
       "      <td>0.300007</td>\n",
       "      <td>0.869751</td>\n",
       "      <td>-0.665728</td>\n",
       "      <td>0.723222</td>\n",
       "      <td>0.909807</td>\n",
       "      <td>-3.330669e-16</td>\n",
       "    </tr>\n",
       "    <tr>\n",
       "      <th>ko_4</th>\n",
       "      <td>-9.796945</td>\n",
       "      <td>-0.016303</td>\n",
       "      <td>0.492379</td>\n",
       "      <td>-0.678446</td>\n",
       "      <td>-0.779347</td>\n",
       "      <td>2.209494</td>\n",
       "      <td>-0.359610</td>\n",
       "      <td>-0.973436</td>\n",
       "      <td>-0.807480</td>\n",
       "      <td>-4.440892e-16</td>\n",
       "    </tr>\n",
       "    <tr>\n",
       "      <th>ko_5</th>\n",
       "      <td>-9.178000</td>\n",
       "      <td>1.559289</td>\n",
       "      <td>-0.139312</td>\n",
       "      <td>-0.000475</td>\n",
       "      <td>-0.033195</td>\n",
       "      <td>-1.023918</td>\n",
       "      <td>-0.861110</td>\n",
       "      <td>1.466120</td>\n",
       "      <td>-0.859435</td>\n",
       "      <td>1.026956e-15</td>\n",
       "    </tr>\n",
       "  </tbody>\n",
       "</table>\n",
       "</div>"
      ],
      "text/plain": [
       "           PC1       PC2       PC3       PC4       PC5       PC6       PC7  \\\n",
       "wt_1  9.898026  3.433465 -0.312406  0.576982 -0.607383  0.942894 -1.096615   \n",
       "wt_2  8.991962 -0.765402 -1.045962 -2.216312  1.855618 -1.090428 -1.154668   \n",
       "wt_3  9.499507 -0.774045 -1.638790  3.094571  0.774290  0.106958  0.682091   \n",
       "wt_4  9.296880 -1.704170  4.143494  0.397730 -0.233411 -0.142025 -0.250631   \n",
       "wt_5  8.966951 -0.266527 -1.115475 -1.999780 -1.796813  0.187591  1.874730   \n",
       "ko_1 -9.307994 -0.035426 -0.044876  0.762286 -2.016780 -2.079873  0.109206   \n",
       "ko_2 -9.364310  1.620590  1.060887 -0.198411  2.537012  0.019554  1.722334   \n",
       "ko_3 -9.006078 -3.051472 -1.399939  0.261856  0.300007  0.869751 -0.665728   \n",
       "ko_4 -9.796945 -0.016303  0.492379 -0.678446 -0.779347  2.209494 -0.359610   \n",
       "ko_5 -9.178000  1.559289 -0.139312 -0.000475 -0.033195 -1.023918 -0.861110   \n",
       "\n",
       "           PC8       PC9          PC10  \n",
       "wt_1  0.009611  0.812971 -1.137979e-15  \n",
       "wt_2 -0.744891 -0.189454  1.124101e-15  \n",
       "wt_3 -0.220125 -0.641139  7.632783e-16  \n",
       "wt_4  0.316042  0.015093  1.290634e-15  \n",
       "wt_5  0.591783 -0.049417  1.054712e-15  \n",
       "ko_1 -1.039290  0.379216 -1.387779e-16  \n",
       "ko_2 -0.129035  0.429839 -7.355228e-16  \n",
       "ko_3  0.723222  0.909807 -3.330669e-16  \n",
       "ko_4 -0.973436 -0.807480 -4.440892e-16  \n",
       "ko_5  1.466120 -0.859435  1.026956e-15  "
      ]
     },
     "execution_count": 16,
     "metadata": {},
     "output_type": "execute_result"
    }
   ],
   "source": [
    "pca_df = pd.DataFrame(pca_data, columns=labels, index=[*wt, *ko])\n",
    "pca_df"
   ]
  },
  {
   "cell_type": "code",
   "execution_count": 18,
   "metadata": {},
   "outputs": [
    {
     "data": {
      "image/png": "[encoded data removed]",
      "text/plain": [
       "<Figure size 864x576 with 1 Axes>"
      ]
     },
     "metadata": {
      "needs_background": "light"
     },
     "output_type": "display_data"
    }
   ],
   "source": [
    "plt.figure(figsize=(12,8))\n",
    "plt.scatter(pca_df.PC1, pca_df.PC2)\n",
    "plt.title('PCA graph')\n",
    "plt.xlabel('PC1 - {0}%'.format(per_var[0]))\n",
    "plt.ylabel('PC2 - {0}%'.format(per_var[1]))\n",
    "\n",
    "for sample in pca_df.index:\n",
    "    plt.annotate(sample, (pca_df.PC1.loc[sample], pca_df.PC2.loc[sample]))\n",
    "\n",
    "plt.show()    "
   ]
  },
  {
   "cell_type": "markdown",
   "metadata": {},
   "source": [
    "### **Loading scores**"
   ]
  },
  {
   "cell_type": "code",
   "execution_count": 19,
   "metadata": {},
   "outputs": [
    {
     "data": {
      "text/plain": [
       "gene_87    0.107032\n",
       "gene_21   -0.107028\n",
       "gene_53    0.107019\n",
       "gene_86   -0.107015\n",
       "gene_29    0.107011\n",
       "gene_70    0.106957\n",
       "gene_97   -0.106955\n",
       "gene_88    0.106950\n",
       "gene_60    0.106939\n",
       "gene_96    0.106937\n",
       "dtype: float64"
      ]
     },
     "execution_count": 19,
     "metadata": {},
     "output_type": "execute_result"
    }
   ],
   "source": [
    "# Looking for which gene have more importance in separating the two clusters\n",
    "\n",
    "loading_scores = pd.Series(pca.components_[0], index=genes)\n",
    "sorted_loading_scores = loading_scores.abs().sort_values(ascending=False)\n",
    "\n",
    "top_10_genes = sorted_loading_scores[0:10].index.values\n",
    "\n",
    "loading_scores[top_10_genes]"
   ]
  }
 ],
 "metadata": {
  "kernelspec": {
   "display_name": "Python 3.9.12 ('base')",
   "language": "python",
   "name": "python3"
  },
  "language_info": {
   "codemirror_mode": {
    "name": "ipython",
    "version": 3
   },
   "file_extension": ".py",
   "mimetype": "text/x-python",
   "name": "python",
   "nbconvert_exporter": "python",
   "pygments_lexer": "ipython3",
   "version": "3.9.12"
  },
  "orig_nbformat": 4,
  "vscode": {
   "interpreter": {
    "hash": "ad2bdc8ecc057115af97d19610ffacc2b4e99fae6737bb82f5d7fb13d2f2c186"
   }
  }
 },
 "nbformat": 4,
 "nbformat_minor": 2
}
